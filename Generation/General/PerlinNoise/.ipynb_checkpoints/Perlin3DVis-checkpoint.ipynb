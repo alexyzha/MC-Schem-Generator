{
 "cells": [
  {
   "cell_type": "code",
   "execution_count": 21,
   "id": "51016ffc",
   "metadata": {},
   "outputs": [],
   "source": [
    "import numpy as np\n",
    "import plotly.graph_objects as go\n",
    "import plotly.io as pio"
   ]
  },
  {
   "cell_type": "code",
   "execution_count": 60,
   "id": "8a8bc8d8",
   "metadata": {},
   "outputs": [],
   "source": [
    "pio.renderers.default = 'notebook'"
   ]
  },
  {
   "cell_type": "code",
   "execution_count": 61,
   "id": "aceb819f",
   "metadata": {},
   "outputs": [],
   "source": [
    "shape = [800,600]\n",
    "grid = np.zeros(shape)"
   ]
  },
  {
   "cell_type": "code",
   "execution_count": 67,
   "id": "e7c6a4af",
   "metadata": {},
   "outputs": [],
   "source": [
    "with open(\"output.txt\",'r') as file:\n",
    "    for x in range(800):\n",
    "        for y in range(600):\n",
    "            line = file.readline()\n",
    "            val = float(line.strip())\n",
    "            grid[x][y] = val"
   ]
  },
  {
   "cell_type": "code",
   "execution_count": 68,
   "id": "b50c80d5",
   "metadata": {},
   "outputs": [],
   "source": [
    "x = np.arange(0,600)\n",
    "y = np.arange(0,800)\n",
    "x, y = np.meshgrid(x,y)"
   ]
  },
  {
   "cell_type": "code",
   "execution_count": 69,
   "id": "1a14493f",
   "metadata": {},
   "outputs": [],
   "source": [
    "fig = go.Figure(data=[go.Surface(z=grid,x=x,y=y,colorscale='Viridis')])"
   ]
  },
  {
   "cell_type": "code",
   "execution_count": 70,
   "id": "eb12c5a1",
   "metadata": {},
   "outputs": [],
   "source": [
    "fig.update_layout(\n",
    "    scene = dict(\n",
    "        xaxis_title = 'X',\n",
    "        yaxis_title = 'Z',\n",
    "        zaxis_title = 'Y (HEIGHT)',\n",
    "        zaxis=dict(range=[0, 1])),\n",
    "    autosize = True\n",
    ")"
   ]
  },
  {
   "cell_type": "code",
   "execution_count": 71,
   "id": "474c7e7f",
   "metadata": {},
   "outputs": [],
   "source": [
    "fig.write_html(\"plot.html\")"
   ]
  },
  {
   "cell_type": "code",
   "execution_count": null,
   "id": "f53ca88c",
   "metadata": {},
   "outputs": [],
   "source": []
  }
 ],
 "metadata": {
  "kernelspec": {
   "display_name": "Python 3 (ipykernel)",
   "language": "python",
   "name": "python3"
  },
  "language_info": {
   "codemirror_mode": {
    "name": "ipython",
    "version": 3
   },
   "file_extension": ".py",
   "mimetype": "text/x-python",
   "name": "python",
   "nbconvert_exporter": "python",
   "pygments_lexer": "ipython3",
   "version": "3.11.4"
  }
 },
 "nbformat": 4,
 "nbformat_minor": 5
}
